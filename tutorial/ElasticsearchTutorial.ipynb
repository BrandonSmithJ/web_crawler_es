{
 "cells": [
  {
   "cell_type": "markdown",
   "metadata": {},
   "source": [
    "# Elasticsearch\n",
    "\n",
    "Elasticsearch is a distributed search engine based on Lucene. It provides full-text search capabilities via a HTTP web interface and schema-free JSON documents. "
   ]
  },
  {
   "cell_type": "code",
   "execution_count": 1,
   "metadata": {},
   "outputs": [],
   "source": [
    "elasticsearch_url=localhost:9200\n",
    "kibana_url=localhost:5601\n",
    "index_1=my_index"
   ]
  },
  {
   "cell_type": "code",
   "execution_count": 2,
   "metadata": {},
   "outputs": [
    {
     "name": "stdout",
     "output_type": "stream",
     "text": [
      "{\n",
      "  \"name\" : \"IGp-s0M\",\n",
      "  \"cluster_name\" : \"elasticsearch\",\n",
      "  \"cluster_uuid\" : \"3sKj2maoR1G14YjtSFRhLw\",\n",
      "  \"version\" : {\n",
      "    \"number\" : \"5.5.1\",\n",
      "    \"build_hash\" : \"19c13d0\",\n",
      "    \"build_date\" : \"2017-07-18T20:44:24.823Z\",\n",
      "    \"build_snapshot\" : false,\n",
      "    \"lucene_version\" : \"6.6.0\"\n",
      "  },\n",
      "  \"tagline\" : \"You Know, for Search\"\n",
      "}\n"
     ]
    }
   ],
   "source": [
    "curl -XGET http://$elasticsearch_url/"
   ]
  },
  {
   "cell_type": "markdown",
   "metadata": {},
   "source": [
    "## Table of Contents:\n",
    "* [Components of Elasticsearch](#Components of Elasticsearch)\n",
    "   * [Documents](#Documents)\n",
    "   * [Index](#Index)\n",
    "   \n",
    "* [Creating an Index with Data](#Creating an Index with Data)\n",
    "* [Search!](#Search!)\n",
    "    * [Searching Terms](#Searching Terms)\n",
    "    * [Searching Phrases](#Searching Phrases)\n",
    "    * [Search with Ranges](#Search with Ranges)\n",
    "    * [The bool query](#The bool query)\n",
    "\n",
    "* [Text Analysis](#Text Analysis)\n",
    "    * [What is an Inverted Index?](#What is an Inverted Index?)\n",
    "    * [Analyzers](#Analyzers)\n",
    "    * [Character Filters](#Character Filters)\n",
    "    * [Tokenizer](#Tokenizer)\n",
    "    * [Token Filters](#Token Filters)\n",
    "* [ES for CS8903](#ES for CS8903)"
   ]
  },
  {
   "cell_type": "markdown",
   "metadata": {},
   "source": [
    "## Components of Elasticsearch\n",
    "\n",
    "### Documents\n",
    "\n",
    "A piece of data you want to search. Documents are similar to records in a traditional RDBMS database, but not quite the same. Documents in elasticsearch are stored in a schema-free JSON format.\n",
    "\n",
    "A document can be any text or numeric data you want to search and/or analyze.\n",
    "\n",
    "Example:\n",
    "  * an entry in a log file,\n",
    "  * a comment made by a customer on your website,\n",
    "  * the weather details from a weather station at a specific moment\n",
    "\n",
    "Specifically, a document is a top-level object that is serialized into JSON and stored in Elasticsearch. Every document has a unique ID\n",
    "\n",
    "  * which either you provide\n",
    "  * or Elasticsearch generates for you"
   ]
  },
  {
   "cell_type": "code",
   "execution_count": 3,
   "metadata": {},
   "outputs": [
    {
     "name": "stdout",
     "output_type": "stream",
     "text": [
      "{\n",
      "  \"brandName\" : \"Swiss Miss\",\n",
      "  \"customerRating\" : 1,\n",
      "  \"price\" : 17.58,\n",
      "  \"grp_id\" : \"5964\",\n",
      "  \"quantitySold\" : 168556,\n",
      "  \"upc12\" : \"070920474021\",\n",
      "  \"productName\" : \"Swiss Miss Marshmallow Madness Hot Cocoa Mix - 14 Ct\"\n",
      "}\n"
     ]
    }
   ],
   "source": [
    "curl -XGET \"http://$elasticsearch_url/products/product/5964/_source?pretty=true\" -H \"Content-Type: application/json\""
   ]
  },
  {
   "cell_type": "markdown",
   "metadata": {},
   "source": [
    "### Index\n",
    "\n",
    "An index can be a collection of documents that have similar characteristics. All the documents within an index do not necessarily need to have all the same fields. Again, an Index can be thought of as a Table in a traditional RDBMS, but not quite the same.\n",
    "\n",
    "   * An index contains mappings that define the documents' field names and data types of the index\n",
    "   * it is a logical namespace that maps to where its contents are stored in the cluster"
   ]
  },
  {
   "cell_type": "code",
   "execution_count": 4,
   "metadata": {},
   "outputs": [
    {
     "name": "stdout",
     "output_type": "stream",
     "text": [
      "{\n",
      "  \"products\" : {\n",
      "    \"aliases\" : { },\n",
      "    \"mappings\" : {\n",
      "      \"product\" : {\n",
      "        \"_all\" : {\n",
      "          \"enabled\" : false\n",
      "        },\n",
      "        \"properties\" : {\n",
      "          \"brandName\" : {\n",
      "            \"type\" : \"text\",\n",
      "            \"fields\" : {\n",
      "              \"keyword\" : {\n",
      "                \"type\" : \"keyword\",\n",
      "                \"ignore_above\" : 256\n",
      "              }\n",
      "            }\n",
      "          },\n",
      "          \"customerRating\" : {\n",
      "            \"type\" : \"long\"\n",
      "          },\n",
      "          \"grp_id\" : {\n",
      "            \"type\" : \"keyword\"\n",
      "          },\n",
      "          \"price\" : {\n",
      "            \"type\" : \"float\"\n",
      "          },\n",
      "          \"productName\" : {\n",
      "            \"type\" : \"text\",\n",
      "            \"fields\" : {\n",
      "              \"keyword\" : {\n",
      "                \"type\" : \"keyword\",\n",
      "                \"ignore_above\" : 256\n",
      "              }\n",
      "            }\n",
      "          },\n",
      "          \"quantitySold\" : {\n",
      "            \"type\" : \"long\"\n",
      "          },\n",
      "          \"upc12\" : {\n",
      "            \"type\" : \"keyword\"\n",
      "          }\n",
      "        }\n",
      "      }\n",
      "    },\n",
      "    \"settings\" : {\n",
      "      \"index\" : {\n",
      "        \"creation_date\" : \"1502830020040\",\n",
      "        \"number_of_shards\" : \"2\",\n",
      "        \"number_of_replicas\" : \"0\",\n",
      "        \"uuid\" : \"0DDoLSiHTOmravxDCOdB0A\",\n",
      "        \"version\" : {\n",
      "          \"created\" : \"5050199\"\n",
      "        },\n",
      "        \"provided_name\" : \"products\"\n",
      "      }\n",
      "    }\n",
      "  }\n",
      "}\n"
     ]
    }
   ],
   "source": [
    "curl -XGET http://$elasticsearch_url/products?pretty=true"
   ]
  },
  {
   "cell_type": "markdown",
   "metadata": {},
   "source": [
    "## Creating an Index with Data\n",
    "\n",
    "Before we Index the documents, we need to create an Index that we can use."
   ]
  },
  {
   "cell_type": "code",
   "execution_count": 5,
   "metadata": {},
   "outputs": [
    {
     "name": "stdout",
     "output_type": "stream",
     "text": [
      "{\"acknowledged\":true,\"shards_acknowledged\":true}"
     ]
    }
   ],
   "source": [
    "curl -XPUT http://$elasticsearch_url/$index_1 -H \"Content-Type: application/json\""
   ]
  },
  {
   "cell_type": "markdown",
   "metadata": {},
   "source": [
    "Indexing Data\n",
    "I have 3 simple JSON documents, now let's add them to an Index called \"my_index\".\n",
    "\n",
    "{\n",
    "\"username\": \"harrison\",\n",
    "\"comment\": \"My Favourite movie is Star Wars!\"\n",
    "}\n",
    "\n",
    "{\n",
    "\"username\": \"john\",\n",
    "\"comment\": \"The North Star is right above my house.\"\n",
    "}\n",
    "\n",
    "{\n",
    "\"username\": \"lily\",\n",
    "\"comment\": \"My Favourite movie star in Hollywood is Harrison Ford.\"\n",
    "}\n",
    "\n",
    "Here, \"username\" and \"comments\" are fields."
   ]
  },
  {
   "cell_type": "code",
   "execution_count": 6,
   "metadata": {},
   "outputs": [
    {
     "name": "stdout",
     "output_type": "stream",
     "text": [
      "HTTP/1.1 201 Created\n",
      "Location: /my_index/doc/AV5dWK1WI_fCNZVDFGDw\n",
      "content-type: application/json; charset=UTF-8\n",
      "content-length: 159\n",
      "\n",
      "{\"_index\":\"my_index\",\"_type\":\"doc\",\"_id\":\"AV5dWK1WI_fCNZVDFGDw\",\"_version\":1,\"result\":\"created\",\"_shards\":{\"total\":2,\"successful\":1,\"failed\":0},\"created\":true}"
     ]
    }
   ],
   "source": [
    "curl -XPOST http://$elasticsearch_url/$index_1/doc/ -i -H \"Content-Type: application/json\" -d '{ \"username\": \"harrison\", \"comment\": \"My Favourite movie is Star Wars!\" }'"
   ]
  },
  {
   "cell_type": "code",
   "execution_count": 7,
   "metadata": {},
   "outputs": [
    {
     "name": "stdout",
     "output_type": "stream",
     "text": [
      "HTTP/1.1 201 Created\n",
      "Location: /my_index/doc/AV5dWLqTI_fCNZVDFGDx\n",
      "content-type: application/json; charset=UTF-8\n",
      "content-length: 159\n",
      "\n",
      "{\"_index\":\"my_index\",\"_type\":\"doc\",\"_id\":\"AV5dWLqTI_fCNZVDFGDx\",\"_version\":1,\"result\":\"created\",\"_shards\":{\"total\":2,\"successful\":1,\"failed\":0},\"created\":true}"
     ]
    }
   ],
   "source": [
    "curl -XPOST http://$elasticsearch_url/$index_1/doc/ -i -H \"Content-Type: application/json\" -d '{ \"username\": \"john\", \"comment\": \"The North Star is right above my house.\" }'"
   ]
  },
  {
   "cell_type": "code",
   "execution_count": 8,
   "metadata": {},
   "outputs": [
    {
     "name": "stdout",
     "output_type": "stream",
     "text": [
      "HTTP/1.1 201 Created\n",
      "Location: /my_index/doc/AV5dWL7rI_fCNZVDFGDy\n",
      "content-type: application/json; charset=UTF-8\n",
      "content-length: 159\n",
      "\n",
      "{\"_index\":\"my_index\",\"_type\":\"doc\",\"_id\":\"AV5dWL7rI_fCNZVDFGDy\",\"_version\":1,\"result\":\"created\",\"_shards\":{\"total\":2,\"successful\":1,\"failed\":0},\"created\":true}"
     ]
    }
   ],
   "source": [
    "curl -XPOST http://$elasticsearch_url/$index_1/doc/ -i -H \"Content-Type: application/json\" -d '{ \"username\": \"lily\", \"comment\": \"My Favourite movie star in Hollywood is Harrison Ford.\" }'"
   ]
  },
  {
   "cell_type": "code",
   "execution_count": 9,
   "metadata": {},
   "outputs": [
    {
     "name": "stdout",
     "output_type": "stream",
     "text": [
      "health status index     uuid                   pri rep docs.count docs.deleted store.size pri.store.size\n",
      "yellow open   crimes    yctKv_ytTfuEuygBti-fzQ   5   1     192147            0     50.1mb         50.1mb\n",
      "green  open   products  0DDoLSiHTOmravxDCOdB0A   2   0     110435            0       28mb           28mb\n",
      "yellow open   stocks    qRbfSek5TOG9tk3IYCtKMg   5   1     122574            0     21.1mb         21.1mb\n",
      "yellow open   test_html 9yu1vs3JTm2r8pC7_Ov_jA   5   1          1            0    276.6kb        276.6kb\n",
      "yellow open   nutrition KI0MI9qZSN659K27swIg3A   5   1        499            0    549.5kb        549.5kb\n",
      "yellow open   my_index  LERRQikHRKy2jRd2NCeV-w   5   1          3            0     12.9kb         12.9kb\n",
      "yellow open   .kibana   9SkA5iqbSgWfcnreADu_zw   1   1          7            0     31.9kb         31.9kb\n"
     ]
    }
   ],
   "source": [
    "curl -XGET \"http://$elasticsearch_url/_cat/indices?v\""
   ]
  },
  {
   "cell_type": "markdown",
   "metadata": {},
   "source": [
    "## Search!"
   ]
  },
  {
   "cell_type": "markdown",
   "metadata": {},
   "source": [
    "The simplest form of search we can perform is the \"match_all\" search, which matches all the documents in elasticsearch. \n",
    "\n",
    "Search can be performed on:\n",
    "\n",
    "   * the whole elasticsearch cluster \"http://elasticsearch_url/_search\"\n",
    "   * on a specific index \"http://elasticsearch_url/my_index/_search\"\n",
    "   * on index patterns \"http://elasticsearch_url/my*/_search\""
   ]
  },
  {
   "cell_type": "code",
   "execution_count": 10,
   "metadata": {},
   "outputs": [
    {
     "name": "stdout",
     "output_type": "stream",
     "text": [
      "{\n",
      "  \"took\" : 1,\n",
      "  \"timed_out\" : false,\n",
      "  \"_shards\" : {\n",
      "    \"total\" : 5,\n",
      "    \"successful\" : 5,\n",
      "    \"failed\" : 0\n",
      "  },\n",
      "  \"hits\" : {\n",
      "    \"total\" : 3,\n",
      "    \"max_score\" : 1.0,\n",
      "    \"hits\" : [\n",
      "      {\n",
      "        \"_index\" : \"my_index\",\n",
      "        \"_type\" : \"doc\",\n",
      "        \"_id\" : \"AV5dWLqTI_fCNZVDFGDx\",\n",
      "        \"_score\" : 1.0,\n",
      "        \"_source\" : {\n",
      "          \"username\" : \"john\",\n",
      "          \"comment\" : \"The North Star is right above my house.\"\n",
      "        }\n",
      "      },\n",
      "      {\n",
      "        \"_index\" : \"my_index\",\n",
      "        \"_type\" : \"doc\",\n",
      "        \"_id\" : \"AV5dWL7rI_fCNZVDFGDy\",\n",
      "        \"_score\" : 1.0,\n",
      "        \"_source\" : {\n",
      "          \"username\" : \"lily\",\n",
      "          \"comment\" : \"My Favourite movie star in Hollywood is Harrison Ford.\"\n",
      "        }\n",
      "      },\n",
      "      {\n",
      "        \"_index\" : \"my_index\",\n",
      "        \"_type\" : \"doc\",\n",
      "        \"_id\" : \"AV5dWK1WI_fCNZVDFGDw\",\n",
      "        \"_score\" : 1.0,\n",
      "        \"_source\" : {\n",
      "          \"username\" : \"harrison\",\n",
      "          \"comment\" : \"My Favourite movie is Star Wars!\"\n",
      "        }\n",
      "      }\n",
      "    ]\n",
      "  }\n",
      "}\n"
     ]
    }
   ],
   "source": [
    "curl -XGET \"http://$elasticsearch_url/$index_1/_search?pretty=true\" -H \"Content-Type: application/json\"  \\\n",
    "-d '{\"query\": { \"match_all\": {} }}'"
   ]
  },
  {
   "cell_type": "markdown",
   "metadata": {},
   "source": [
    "### Searching Terms\n",
    "\n",
    "Using the \"Match\" query, one can easily search for terms in the document corpus. It can be used to search fields that are text, numerical values or dates."
   ]
  },
  {
   "cell_type": "code",
   "execution_count": 11,
   "metadata": {},
   "outputs": [
    {
     "name": "stdout",
     "output_type": "stream",
     "text": [
      "{\n",
      "  \"took\" : 1,\n",
      "  \"timed_out\" : false,\n",
      "  \"_shards\" : {\n",
      "    \"total\" : 5,\n",
      "    \"successful\" : 5,\n",
      "    \"failed\" : 0\n",
      "  },\n",
      "  \"hits\" : {\n",
      "    \"total\" : 3,\n",
      "    \"max_score\" : 0.80781925,\n",
      "    \"hits\" : [\n",
      "      {\n",
      "        \"_index\" : \"my_index\",\n",
      "        \"_type\" : \"doc\",\n",
      "        \"_id\" : \"AV5dWL7rI_fCNZVDFGDy\",\n",
      "        \"_score\" : 0.80781925,\n",
      "        \"_source\" : {\n",
      "          \"username\" : \"lily\",\n",
      "          \"comment\" : \"My Favourite movie star in Hollywood is Harrison Ford.\"\n",
      "        }\n",
      "      },\n",
      "      {\n",
      "        \"_index\" : \"my_index\",\n",
      "        \"_type\" : \"doc\",\n",
      "        \"_id\" : \"AV5dWK1WI_fCNZVDFGDw\",\n",
      "        \"_score\" : 0.53484553,\n",
      "        \"_source\" : {\n",
      "          \"username\" : \"harrison\",\n",
      "          \"comment\" : \"My Favourite movie is Star Wars!\"\n",
      "        }\n",
      "      },\n",
      "      {\n",
      "        \"_index\" : \"my_index\",\n",
      "        \"_type\" : \"doc\",\n",
      "        \"_id\" : \"AV5dWLqTI_fCNZVDFGDx\",\n",
      "        \"_score\" : 0.16823316,\n",
      "        \"_source\" : {\n",
      "          \"username\" : \"john\",\n",
      "          \"comment\" : \"The North Star is right above my house.\"\n",
      "        }\n",
      "      }\n",
      "    ]\n",
      "  }\n",
      "}\n"
     ]
    }
   ],
   "source": [
    "curl -XGET \"http://$elasticsearch_url/$index_1/_search?pretty=true\" -H \"Content-Type: application/json\"  \\\n",
    "-d '{\"query\": { \"match\": { \"comment\": \"Favourite star\" } }}'"
   ]
  },
  {
   "cell_type": "code",
   "execution_count": 12,
   "metadata": {},
   "outputs": [
    {
     "name": "stdout",
     "output_type": "stream",
     "text": [
      "{\n",
      "  \"took\" : 1,\n",
      "  \"timed_out\" : false,\n",
      "  \"_shards\" : {\n",
      "    \"total\" : 5,\n",
      "    \"successful\" : 5,\n",
      "    \"failed\" : 0\n",
      "  },\n",
      "  \"hits\" : {\n",
      "    \"total\" : 2,\n",
      "    \"max_score\" : 0.80781925,\n",
      "    \"hits\" : [\n",
      "      {\n",
      "        \"_index\" : \"my_index\",\n",
      "        \"_type\" : \"doc\",\n",
      "        \"_id\" : \"AV5dWL7rI_fCNZVDFGDy\",\n",
      "        \"_score\" : 0.80781925,\n",
      "        \"_source\" : {\n",
      "          \"username\" : \"lily\",\n",
      "          \"comment\" : \"My Favourite movie star in Hollywood is Harrison Ford.\"\n",
      "        }\n",
      "      },\n",
      "      {\n",
      "        \"_index\" : \"my_index\",\n",
      "        \"_type\" : \"doc\",\n",
      "        \"_id\" : \"AV5dWK1WI_fCNZVDFGDw\",\n",
      "        \"_score\" : 0.53484553,\n",
      "        \"_source\" : {\n",
      "          \"username\" : \"harrison\",\n",
      "          \"comment\" : \"My Favourite movie is Star Wars!\"\n",
      "        }\n",
      "      }\n",
      "    ]\n",
      "  }\n",
      "}\n"
     ]
    }
   ],
   "source": [
    "curl -XGET \"http://$elasticsearch_url/$index_1/_search?pretty=true\" -H \"Content-Type: application/json\"  \\\n",
    "-d '{\"query\": { \"match\": { \"comment\": {\"query\": \"Favourite star\", \"operator\": \"and\" }  } }}'"
   ]
  },
  {
   "cell_type": "code",
   "execution_count": 13,
   "metadata": {},
   "outputs": [
    {
     "name": "stdout",
     "output_type": "stream",
     "text": [
      "{\n",
      "  \"took\" : 1,\n",
      "  \"timed_out\" : false,\n",
      "  \"_shards\" : {\n",
      "    \"total\" : 5,\n",
      "    \"successful\" : 5,\n",
      "    \"failed\" : 0\n",
      "  },\n",
      "  \"hits\" : {\n",
      "    \"total\" : 2,\n",
      "    \"max_score\" : 1.4474053,\n",
      "    \"hits\" : [\n",
      "      {\n",
      "        \"_index\" : \"my_index\",\n",
      "        \"_type\" : \"doc\",\n",
      "        \"_id\" : \"AV5dWL7rI_fCNZVDFGDy\",\n",
      "        \"_score\" : 1.4474053,\n",
      "        \"_source\" : {\n",
      "          \"username\" : \"lily\",\n",
      "          \"comment\" : \"My Favourite movie star in Hollywood is Harrison Ford.\"\n",
      "        }\n",
      "      },\n",
      "      {\n",
      "        \"_index\" : \"my_index\",\n",
      "        \"_type\" : \"doc\",\n",
      "        \"_id\" : \"AV5dWK1WI_fCNZVDFGDw\",\n",
      "        \"_score\" : 0.80226827,\n",
      "        \"_source\" : {\n",
      "          \"username\" : \"harrison\",\n",
      "          \"comment\" : \"My Favourite movie is Star Wars!\"\n",
      "        }\n",
      "      }\n",
      "    ]\n",
      "  }\n",
      "}\n"
     ]
    }
   ],
   "source": [
    "curl -XGET \"http://$elasticsearch_url/$index_1/_search?pretty=true\" -H \"Content-Type: application/json\"  \\\n",
    "-d '{\"query\": { \"match\": { \"comment\": {\"query\": \"My Favourite movie\", \"minimum_should_match\": 2 }  } }}'"
   ]
  },
  {
   "cell_type": "markdown",
   "metadata": {},
   "source": [
    "### Searching Phrases\n",
    "\n",
    "The \"match_phrase\" query is for searching text when you want to find terms that are near each other.\n",
    "\n",
    "More specifically, you can search with conditions like:\n",
    "\n",
    "    * All the terms in the phrase must be in the document\n",
    "    * The position of terms must be in the same relevant order"
   ]
  },
  {
   "cell_type": "code",
   "execution_count": 14,
   "metadata": {},
   "outputs": [
    {
     "name": "stdout",
     "output_type": "stream",
     "text": [
      "{\n",
      "  \"took\" : 0,\n",
      "  \"timed_out\" : false,\n",
      "  \"_shards\" : {\n",
      "    \"total\" : 5,\n",
      "    \"successful\" : 5,\n",
      "    \"failed\" : 0\n",
      "  },\n",
      "  \"hits\" : {\n",
      "    \"total\" : 1,\n",
      "    \"max_score\" : 0.80781925,\n",
      "    \"hits\" : [\n",
      "      {\n",
      "        \"_index\" : \"my_index\",\n",
      "        \"_type\" : \"doc\",\n",
      "        \"_id\" : \"AV5dWL7rI_fCNZVDFGDy\",\n",
      "        \"_score\" : 0.80781925,\n",
      "        \"_source\" : {\n",
      "          \"username\" : \"lily\",\n",
      "          \"comment\" : \"My Favourite movie star in Hollywood is Harrison Ford.\"\n",
      "        }\n",
      "      }\n",
      "    ]\n",
      "  }\n",
      "}\n"
     ]
    }
   ],
   "source": [
    "curl -XGET \"http://$elasticsearch_url/$index_1/_search?pretty=true\" -H \"Content-Type: application/json\"  \\\n",
    "-d '{\"query\": { \"match_phrase\": { \"comment\": \"movie star\"  } }}'"
   ]
  },
  {
   "cell_type": "code",
   "execution_count": 15,
   "metadata": {},
   "outputs": [
    {
     "name": "stdout",
     "output_type": "stream",
     "text": [
      "{\n",
      "  \"took\" : 0,\n",
      "  \"timed_out\" : false,\n",
      "  \"_shards\" : {\n",
      "    \"total\" : 5,\n",
      "    \"successful\" : 5,\n",
      "    \"failed\" : 0\n",
      "  },\n",
      "  \"hits\" : {\n",
      "    \"total\" : 2,\n",
      "    \"max_score\" : 0.51109093,\n",
      "    \"hits\" : [\n",
      "      {\n",
      "        \"_index\" : \"my_index\",\n",
      "        \"_type\" : \"doc\",\n",
      "        \"_id\" : \"AV5dWL7rI_fCNZVDFGDy\",\n",
      "        \"_score\" : 0.51109093,\n",
      "        \"_source\" : {\n",
      "          \"username\" : \"lily\",\n",
      "          \"comment\" : \"My Favourite movie star in Hollywood is Harrison Ford.\"\n",
      "        }\n",
      "      },\n",
      "      {\n",
      "        \"_index\" : \"my_index\",\n",
      "        \"_type\" : \"doc\",\n",
      "        \"_id\" : \"AV5dWK1WI_fCNZVDFGDw\",\n",
      "        \"_score\" : 0.2481963,\n",
      "        \"_source\" : {\n",
      "          \"username\" : \"harrison\",\n",
      "          \"comment\" : \"My Favourite movie is Star Wars!\"\n",
      "        }\n",
      "      }\n",
      "    ]\n",
      "  }\n",
      "}\n"
     ]
    }
   ],
   "source": [
    "curl -XGET \"http://$elasticsearch_url/$index_1/_search?pretty=true\" -H \"Content-Type: application/json\"  \\\n",
    "-d '{\"query\": { \"match_phrase\": { \"comment\": {\"query\": \"favourite star\", \"slop\" : 2}  } }}'"
   ]
  },
  {
   "cell_type": "markdown",
   "metadata": {},
   "source": [
    "### Search with Ranges\n",
    "\n",
    "The range query is for finding documents with fields that fall in a given range. Typically used for numeric and date fields."
   ]
  },
  {
   "cell_type": "code",
   "execution_count": 16,
   "metadata": {},
   "outputs": [
    {
     "name": "stdout",
     "output_type": "stream",
     "text": [
      "{\n",
      "  \"took\" : 3,\n",
      "  \"timed_out\" : false,\n",
      "  \"_shards\" : {\n",
      "    \"total\" : 5,\n",
      "    \"successful\" : 5,\n",
      "    \"failed\" : 0\n",
      "  },\n",
      "  \"hits\" : {\n",
      "    \"total\" : 12777,\n",
      "    \"max_score\" : 1.0,\n",
      "    \"hits\" : [\n",
      "      {\n",
      "        \"_index\" : \"stocks\",\n",
      "        \"_type\" : \"stock_type\",\n",
      "        \"_id\" : \"AV3nptS9UTojrU_UL6vN\",\n",
      "        \"_score\" : 1.0,\n",
      "        \"_source\" : {\n",
      "          \"volume\" : 63264,\n",
      "          \"high\" : 54.55,\n",
      "          \"trade_date_text\" : \"20100216\",\n",
      "          \"stock_symbol\" : \"DE\",\n",
      "          \"low\" : 53.54,\n",
      "          \"close\" : 53.78,\n",
      "          \"trade_date\" : \"2010-02-16T07:00:00.000Z\",\n",
      "          \"open\" : 53.76\n",
      "        }\n",
      "      },\n",
      "      {\n",
      "        \"_index\" : \"stocks\",\n",
      "        \"_type\" : \"stock_type\",\n",
      "        \"_id\" : \"AV3nptS9UTojrU_UL6vO\",\n",
      "        \"_score\" : 1.0,\n",
      "        \"_source\" : {\n",
      "          \"volume\" : 173792,\n",
      "          \"high\" : 58.05,\n",
      "          \"trade_date_text\" : \"20100217\",\n",
      "          \"stock_symbol\" : \"DE\",\n",
      "          \"low\" : 56.05,\n",
      "          \"close\" : 56.48,\n",
      "          \"trade_date\" : \"2010-02-17T07:00:00.000Z\",\n",
      "          \"open\" : 57.69\n",
      "        }\n",
      "      },\n",
      "      {\n",
      "        \"_index\" : \"stocks\",\n",
      "        \"_type\" : \"stock_type\",\n",
      "        \"_id\" : \"AV3nptS9UTojrU_UL6vP\",\n",
      "        \"_score\" : 1.0,\n",
      "        \"_source\" : {\n",
      "          \"volume\" : 60920,\n",
      "          \"high\" : 57.52,\n",
      "          \"trade_date_text\" : \"20100218\",\n",
      "          \"stock_symbol\" : \"DE\",\n",
      "          \"low\" : 56.45,\n",
      "          \"close\" : 57.26,\n",
      "          \"trade_date\" : \"2010-02-18T07:00:00.000Z\",\n",
      "          \"open\" : 56.92\n",
      "        }\n",
      "      },\n",
      "      {\n",
      "        \"_index\" : \"stocks\",\n",
      "        \"_type\" : \"stock_type\",\n",
      "        \"_id\" : \"AV3nptS9UTojrU_UL6vQ\",\n",
      "        \"_score\" : 1.0,\n",
      "        \"_source\" : {\n",
      "          \"volume\" : 42620,\n",
      "          \"high\" : 57.725,\n",
      "          \"trade_date_text\" : \"20100219\",\n",
      "          \"stock_symbol\" : \"DE\",\n",
      "          \"low\" : 56.6,\n",
      "          \"close\" : 57.28,\n",
      "          \"trade_date\" : \"2010-02-19T07:00:00.000Z\",\n",
      "          \"open\" : 57.11\n",
      "        }\n",
      "      },\n",
      "      {\n",
      "        \"_index\" : \"stocks\",\n",
      "        \"_type\" : \"stock_type\",\n",
      "        \"_id\" : \"AV3nptS9UTojrU_UL6vY\",\n",
      "        \"_score\" : 1.0,\n",
      "        \"_source\" : {\n",
      "          \"volume\" : 39223,\n",
      "          \"high\" : 59.7,\n",
      "          \"trade_date_text\" : \"20100303\",\n",
      "          \"stock_symbol\" : \"DE\",\n",
      "          \"low\" : 58.33,\n",
      "          \"close\" : 58.66,\n",
      "          \"trade_date\" : \"2010-03-03T07:00:00.000Z\",\n",
      "          \"open\" : 58.35\n",
      "        }\n",
      "      },\n",
      "      {\n",
      "        \"_index\" : \"stocks\",\n",
      "        \"_type\" : \"stock_type\",\n",
      "        \"_id\" : \"AV3nptS9UTojrU_UL6vj\",\n",
      "        \"_score\" : 1.0,\n",
      "        \"_source\" : {\n",
      "          \"volume\" : 34149,\n",
      "          \"high\" : 59.91,\n",
      "          \"trade_date_text\" : \"20100318\",\n",
      "          \"stock_symbol\" : \"DE\",\n",
      "          \"low\" : 58.96,\n",
      "          \"close\" : 59.25,\n",
      "          \"trade_date\" : \"2010-03-18T06:00:00.000Z\",\n",
      "          \"open\" : 59.32\n",
      "        }\n",
      "      },\n",
      "      {\n",
      "        \"_index\" : \"stocks\",\n",
      "        \"_type\" : \"stock_type\",\n",
      "        \"_id\" : \"AV3nptS9UTojrU_UL6vt\",\n",
      "        \"_score\" : 1.0,\n",
      "        \"_source\" : {\n",
      "          \"volume\" : 50103,\n",
      "          \"high\" : 60.7,\n",
      "          \"trade_date_text\" : \"20100401\",\n",
      "          \"stock_symbol\" : \"DE\",\n",
      "          \"low\" : 59.1,\n",
      "          \"close\" : 59.74,\n",
      "          \"trade_date\" : \"2010-04-01T06:00:00.000Z\",\n",
      "          \"open\" : 59.99\n",
      "        }\n",
      "      },\n",
      "      {\n",
      "        \"_index\" : \"stocks\",\n",
      "        \"_type\" : \"stock_type\",\n",
      "        \"_id\" : \"AV3nptS9UTojrU_UL6v_\",\n",
      "        \"_score\" : 1.0,\n",
      "        \"_source\" : {\n",
      "          \"volume\" : 29487,\n",
      "          \"high\" : 60.27,\n",
      "          \"trade_date_text\" : \"20100428\",\n",
      "          \"stock_symbol\" : \"DE\",\n",
      "          \"low\" : 59.27,\n",
      "          \"close\" : 59.58,\n",
      "          \"trade_date\" : \"2010-04-28T06:00:00.000Z\",\n",
      "          \"open\" : 59.96\n",
      "        }\n",
      "      },\n",
      "      {\n",
      "        \"_index\" : \"stocks\",\n",
      "        \"_type\" : \"stock_type\",\n",
      "        \"_id\" : \"AV3nptS9UTojrU_UL6wO\",\n",
      "        \"_score\" : 1.0,\n",
      "        \"_source\" : {\n",
      "          \"volume\" : 112771,\n",
      "          \"high\" : 59.52,\n",
      "          \"trade_date_text\" : \"20100519\",\n",
      "          \"stock_symbol\" : \"DE\",\n",
      "          \"low\" : 56.0,\n",
      "          \"close\" : 58.87,\n",
      "          \"trade_date\" : \"2010-05-19T06:00:00.000Z\",\n",
      "          \"open\" : 59.47\n",
      "        }\n",
      "      },\n",
      "      {\n",
      "        \"_index\" : \"stocks\",\n",
      "        \"_type\" : \"stock_type\",\n",
      "        \"_id\" : \"AV3nptS9UTojrU_UL6wS\",\n",
      "        \"_score\" : 1.0,\n",
      "        \"_source\" : {\n",
      "          \"volume\" : 88496,\n",
      "          \"high\" : 55.9,\n",
      "          \"trade_date_text\" : \"20100525\",\n",
      "          \"stock_symbol\" : \"DE\",\n",
      "          \"low\" : 53.2,\n",
      "          \"close\" : 55.89,\n",
      "          \"trade_date\" : \"2010-05-25T06:00:00.000Z\",\n",
      "          \"open\" : 54.87\n",
      "        }\n",
      "      }\n",
      "    ]\n",
      "  }\n",
      "}\n"
     ]
    }
   ],
   "source": [
    "curl -XGET \"http://$elasticsearch_url/stocks/_search?pretty=true\" -H \"Content-Type: application/json\"  \\\n",
    "-d '{\"query\": { \"range\": { \"open\": {\"gt\": 50.00, \"lt\": 60.00}  } }}'"
   ]
  },
  {
   "cell_type": "code",
   "execution_count": 17,
   "metadata": {},
   "outputs": [
    {
     "name": "stdout",
     "output_type": "stream",
     "text": [
      "{\n",
      "  \"took\" : 4,\n",
      "  \"timed_out\" : false,\n",
      "  \"_shards\" : {\n",
      "    \"total\" : 5,\n",
      "    \"successful\" : 5,\n",
      "    \"failed\" : 0\n",
      "  },\n",
      "  \"hits\" : {\n",
      "    \"total\" : 3493,\n",
      "    \"max_score\" : 1.0,\n",
      "    \"hits\" : [\n",
      "      {\n",
      "        \"_index\" : \"stocks\",\n",
      "        \"_type\" : \"stock_type\",\n",
      "        \"_id\" : \"AV3nptSmUTojrU_UL6t5\",\n",
      "        \"_score\" : 1.0,\n",
      "        \"_source\" : {\n",
      "          \"volume\" : 671719,\n",
      "          \"high\" : 15.76,\n",
      "          \"trade_date_text\" : \"20090827\",\n",
      "          \"stock_symbol\" : \"DELL\",\n",
      "          \"low\" : 14.43,\n",
      "          \"close\" : 15.654,\n",
      "          \"trade_date\" : \"2009-08-27T06:00:00.000Z\",\n",
      "          \"open\" : 14.73\n",
      "        }\n",
      "      },\n",
      "      {\n",
      "        \"_index\" : \"stocks\",\n",
      "        \"_type\" : \"stock_type\",\n",
      "        \"_id\" : \"AV3nptSAUTojrU_UL6r2\",\n",
      "        \"_score\" : 1.0,\n",
      "        \"_source\" : {\n",
      "          \"volume\" : 46971,\n",
      "          \"high\" : 46.06,\n",
      "          \"trade_date_text\" : \"20090826\",\n",
      "          \"stock_symbol\" : \"DE\",\n",
      "          \"low\" : 44.9,\n",
      "          \"close\" : 45.13,\n",
      "          \"trade_date\" : \"2009-08-26T06:00:00.000Z\",\n",
      "          \"open\" : 46.04\n",
      "        }\n",
      "      },\n",
      "      {\n",
      "        \"_index\" : \"stocks\",\n",
      "        \"_type\" : \"stock_type\",\n",
      "        \"_id\" : \"AV3nptSAUTojrU_UL6r3\",\n",
      "        \"_score\" : 1.0,\n",
      "        \"_source\" : {\n",
      "          \"volume\" : 34692,\n",
      "          \"high\" : 45.41,\n",
      "          \"trade_date_text\" : \"20090827\",\n",
      "          \"stock_symbol\" : \"DE\",\n",
      "          \"low\" : 44.02,\n",
      "          \"close\" : 45.07,\n",
      "          \"trade_date\" : \"2009-08-27T06:00:00.000Z\",\n",
      "          \"open\" : 44.9\n",
      "        }\n",
      "      },\n",
      "      {\n",
      "        \"_index\" : \"stocks\",\n",
      "        \"_type\" : \"stock_type\",\n",
      "        \"_id\" : \"AV3nptT7UTojrU_UL6za\",\n",
      "        \"_score\" : 1.0,\n",
      "        \"_source\" : {\n",
      "          \"volume\" : 17852,\n",
      "          \"high\" : 18.15,\n",
      "          \"trade_date_text\" : \"20090825\",\n",
      "          \"stock_symbol\" : \"DF\",\n",
      "          \"low\" : 17.78,\n",
      "          \"close\" : 17.99,\n",
      "          \"trade_date\" : \"2009-08-25T06:00:00.000Z\",\n",
      "          \"open\" : 18.0\n",
      "        }\n",
      "      },\n",
      "      {\n",
      "        \"_index\" : \"stocks\",\n",
      "        \"_type\" : \"stock_type\",\n",
      "        \"_id\" : \"AV3nptT7UTojrU_UL6zb\",\n",
      "        \"_score\" : 1.0,\n",
      "        \"_source\" : {\n",
      "          \"volume\" : 24255,\n",
      "          \"high\" : 18.33,\n",
      "          \"trade_date_text\" : \"20090826\",\n",
      "          \"stock_symbol\" : \"DF\",\n",
      "          \"low\" : 17.81,\n",
      "          \"close\" : 18.23,\n",
      "          \"trade_date\" : \"2009-08-26T06:00:00.000Z\",\n",
      "          \"open\" : 18.0\n",
      "        }\n",
      "      },\n",
      "      {\n",
      "        \"_index\" : \"stocks\",\n",
      "        \"_type\" : \"stock_type\",\n",
      "        \"_id\" : \"AV3nptUrUTojrU_UL63T\",\n",
      "        \"_score\" : 1.0,\n",
      "        \"_source\" : {\n",
      "          \"volume\" : 88326,\n",
      "          \"high\" : 13.93,\n",
      "          \"trade_date_text\" : \"20090831\",\n",
      "          \"stock_symbol\" : \"DFS\",\n",
      "          \"low\" : 13.3999,\n",
      "          \"close\" : 13.75,\n",
      "          \"trade_date\" : \"2009-08-31T06:00:00.000Z\",\n",
      "          \"open\" : 13.77\n",
      "        }\n",
      "      },\n",
      "      {\n",
      "        \"_index\" : \"stocks\",\n",
      "        \"_type\" : \"stock_type\",\n",
      "        \"_id\" : \"AV3nptVTUTojrU_UL67F\",\n",
      "        \"_score\" : 1.0,\n",
      "        \"_source\" : {\n",
      "          \"volume\" : 15693,\n",
      "          \"high\" : 55.54,\n",
      "          \"trade_date_text\" : \"20090826\",\n",
      "          \"stock_symbol\" : \"DGX\",\n",
      "          \"low\" : 54.56,\n",
      "          \"close\" : 55.31,\n",
      "          \"trade_date\" : \"2009-08-26T06:00:00.000Z\",\n",
      "          \"open\" : 55.17\n",
      "        }\n",
      "      },\n",
      "      {\n",
      "        \"_index\" : \"stocks\",\n",
      "        \"_type\" : \"stock_type\",\n",
      "        \"_id\" : \"AV3nptVTUTojrU_UL67I\",\n",
      "        \"_score\" : 1.0,\n",
      "        \"_source\" : {\n",
      "          \"volume\" : 14629,\n",
      "          \"high\" : 54.82,\n",
      "          \"trade_date_text\" : \"20090831\",\n",
      "          \"stock_symbol\" : \"DGX\",\n",
      "          \"low\" : 53.59,\n",
      "          \"close\" : 53.96,\n",
      "          \"trade_date\" : \"2009-08-31T06:00:00.000Z\",\n",
      "          \"open\" : 54.59\n",
      "        }\n",
      "      },\n",
      "      {\n",
      "        \"_index\" : \"stocks\",\n",
      "        \"_type\" : \"stock_type\",\n",
      "        \"_id\" : \"AV3nptVsUTojrU_UL6_P\",\n",
      "        \"_score\" : 1.0,\n",
      "        \"_source\" : {\n",
      "          \"volume\" : 61900,\n",
      "          \"high\" : 13.88,\n",
      "          \"trade_date_text\" : \"20090828\",\n",
      "          \"stock_symbol\" : \"DHI\",\n",
      "          \"low\" : 13.52,\n",
      "          \"close\" : 13.72,\n",
      "          \"trade_date\" : \"2009-08-28T06:00:00.000Z\",\n",
      "          \"open\" : 13.71\n",
      "        }\n",
      "      },\n",
      "      {\n",
      "        \"_index\" : \"stocks\",\n",
      "        \"_type\" : \"stock_type\",\n",
      "        \"_id\" : \"AV3nptXBUTojrU_UL7Gk\",\n",
      "        \"_score\" : 1.0,\n",
      "        \"_source\" : {\n",
      "          \"volume\" : 105881,\n",
      "          \"high\" : 27.2,\n",
      "          \"trade_date_text\" : \"20090826\",\n",
      "          \"stock_symbol\" : \"DIS\",\n",
      "          \"low\" : 26.59,\n",
      "          \"close\" : 27.0,\n",
      "          \"trade_date\" : \"2009-08-26T06:00:00.000Z\",\n",
      "          \"open\" : 26.72\n",
      "        }\n",
      "      }\n",
      "    ]\n",
      "  }\n",
      "}\n"
     ]
    }
   ],
   "source": [
    "curl -XGET \"http://$elasticsearch_url/stocks/_search?pretty=true\" -H \"Content-Type: application/json\"  \\\n",
    "-d '{\"query\": { \"range\": { \"trade_date\": {\"gt\": \"2009-08\", \"lt\": \"2009-09\"}  } }}'"
   ]
  },
  {
   "cell_type": "markdown",
   "metadata": {},
   "source": [
    "### The bool query\n",
    "\n",
    "The bool query is a combination of one or more of the following boolean clauses:\n",
    "     * must\n",
    "     * must_not\n",
    "     * should\n",
    "     * filter"
   ]
  },
  {
   "cell_type": "code",
   "execution_count": 18,
   "metadata": {},
   "outputs": [
    {
     "name": "stdout",
     "output_type": "stream",
     "text": [
      "{\n",
      "  \"took\" : 0,\n",
      "  \"timed_out\" : false,\n",
      "  \"_shards\" : {\n",
      "    \"total\" : 5,\n",
      "    \"successful\" : 5,\n",
      "    \"failed\" : 0\n",
      "  },\n",
      "  \"hits\" : {\n",
      "    \"total\" : 3,\n",
      "    \"max_score\" : 1.1682332,\n",
      "    \"hits\" : [\n",
      "      {\n",
      "        \"_index\" : \"my_index\",\n",
      "        \"_type\" : \"doc\",\n",
      "        \"_id\" : \"AV5dWLqTI_fCNZVDFGDx\",\n",
      "        \"_score\" : 1.1682332,\n",
      "        \"_source\" : {\n",
      "          \"username\" : \"john\",\n",
      "          \"comment\" : \"The North Star is right above my house.\"\n",
      "        }\n",
      "      },\n",
      "      {\n",
      "        \"_index\" : \"my_index\",\n",
      "        \"_type\" : \"doc\",\n",
      "        \"_id\" : \"AV5dWL7rI_fCNZVDFGDy\",\n",
      "        \"_score\" : 1.1682332,\n",
      "        \"_source\" : {\n",
      "          \"username\" : \"lily\",\n",
      "          \"comment\" : \"My Favourite movie star in Hollywood is Harrison Ford.\"\n",
      "        }\n",
      "      },\n",
      "      {\n",
      "        \"_index\" : \"my_index\",\n",
      "        \"_type\" : \"doc\",\n",
      "        \"_id\" : \"AV5dWK1WI_fCNZVDFGDw\",\n",
      "        \"_score\" : 0.26742277,\n",
      "        \"_source\" : {\n",
      "          \"username\" : \"harrison\",\n",
      "          \"comment\" : \"My Favourite movie is Star Wars!\"\n",
      "        }\n",
      "      }\n",
      "    ]\n",
      "  }\n",
      "}\n"
     ]
    }
   ],
   "source": [
    "curl -XGET \"http://$elasticsearch_url/$index_1/_search?pretty=true\" -H \"Content-Type: application/json\"  \\\n",
    "-d '{ \"query\": { \"bool\": {\"must\": [ { \"match\": { \"comment\": \"star\" }}], \"should\": [{ \"bool\": {\"must_not\": [{\"match\": {\"comment\": \"wars\"}}]}}]}}}'\n"
   ]
  },
  {
   "cell_type": "markdown",
   "metadata": {},
   "source": [
    "## Text Analysis"
   ]
  },
  {
   "cell_type": "markdown",
   "metadata": {},
   "source": [
    "In general, data in Elasticsearch can be categorized into two groups:\n",
    "\n",
    "    * Exact Value: Includes Numeric values, dates and certain strings\n",
    "    * Full Text: unstructured text data that we want to search\n",
    " \n",
    " <img src=\"es1.png\">\n",
    " \n",
    " Analysis is the process of converting full text into terms for the 'inverted' index. The full text fields get analyzed during the ingestion of the documents. \n",
    " \n",
    "  <img src=\"es2.png\">"
   ]
  },
  {
   "cell_type": "markdown",
   "metadata": {},
   "source": [
    "### What is an Inverted Index?\n",
    "\n",
    "Lucene creates an Index similar to an Index in the back of a book, where useful terms are sorted and page numbers tell you where to find out more about them.\n",
    "\n",
    "  <img src=\"es3.png\">"
   ]
  },
  {
   "cell_type": "markdown",
   "metadata": {},
   "source": [
    "## Analyzers\n",
    "\n",
    "There are pre-built and custom analyzers built into Elasticsearch. More information about different kinds of Analyzers can be found here.\n",
    "\n",
    "An Analyzer is made up of  3 parts:\n",
    "   \n",
    "   * Character Filter\n",
    "   * Tokenizer\n",
    "   * Token Filter\n",
    "   \n",
    "  <img src=\"es4.png\">"
   ]
  },
  {
   "cell_type": "markdown",
   "metadata": {},
   "source": [
    "### Character Filters\n",
    "\n",
    "These are used to preprocess the text before we pass them onto a tokenizer. Some of the common character tokenizers can include:\n",
    "\n",
    "   * removing html tags\n",
    "   * replacing id's with respective mappings\n",
    "   * replace texts using patterns\n",
    "   "
   ]
  },
  {
   "cell_type": "markdown",
   "metadata": {},
   "source": [
    "### Tokenizer\n",
    "\n",
    "This is the second phase of the Analyzer, this divides the stream of texts into tokens. Some of the commonly used tokenizers include, but not limited to:\n",
    "\n",
    "   * whitespace\n",
    "   * keyword\n",
    "   * pattern\n",
    "   \n",
    "Custom tokenizers can also be built in Java."
   ]
  },
  {
   "cell_type": "markdown",
   "metadata": {},
   "source": [
    "### Token Filters\n",
    "\n",
    "The final part of the analyzer is mostly used to,\n",
    "\n",
    "     * add tokens (Synonym Filter)\n",
    "     * remove tokens (Stop Words)\n",
    "     * change tokens (Stemming root word)"
   ]
  },
  {
   "cell_type": "markdown",
   "metadata": {},
   "source": [
    "## ES for CS8903\n",
    "\n",
    "Instead of using a scrapper to do focused scrapping on websites, we can build broad web crawlers, that can save web pages in elasticsearch. This means, we can write search queries to try and match assignments against indexed web pages.\n",
    "\n",
    "<img src=\"es54.png\">\n",
    "\n",
    "Here is an example analyzer for our project:\n",
    "\n",
    "<img src=\"es55.jpg\">"
   ]
  },
  {
   "cell_type": "code",
   "execution_count": null,
   "metadata": {
    "collapsed": true
   },
   "outputs": [],
   "source": []
  }
 ],
 "metadata": {
  "kernelspec": {
   "display_name": "Bash",
   "language": "bash",
   "name": "bash"
  },
  "language_info": {
   "codemirror_mode": "shell",
   "file_extension": ".sh",
   "mimetype": "text/x-sh",
   "name": "bash"
  }
 },
 "nbformat": 4,
 "nbformat_minor": 2
}
